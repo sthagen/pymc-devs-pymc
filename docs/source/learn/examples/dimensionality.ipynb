{
 "cells": [
  {
   "cell_type": "markdown",
   "metadata": {
    "pycharm": {
     "name": "#%% md\n"
    }
   },
   "source": [
    "# PyMC Dimensionality\n",
    "PyMC provides a number of ways to specify the dimensionality of its distributions. In this document we will not provide an exhaustive explanation but rather an overview and current best practices. \n",
    "\n",
    "## Glossary\n",
    "In this document we'll be using the term dimensionality to refer to the idea of dimensions. Each of the terms below has a specific\n",
    "semantic and computational definition in PyMC.  While we share them here they will make much more sense when viewed in the examples below.\n",
    "\n",
    "+ *Implied dimensions* → dimensionality that follows from inputs to the RV\n",
    "+ *Support dimensions* → dimensions you can NEVER get rid of\n",
    "+ *`ndim_support`* → smallest shape that can result from a random draw. This is a fixed attribute in the distribution definition\n",
    "+ *Shape* → final resulting tensor shape\n",
    "+ *Size* → shape minus the support dimensions\n",
    "+ *Dims* → An array of dimension names\n",
    "+ *Coords* → A dictionary mapping dimension names to coordinate values\n",
    "\n",
    "\n",
    "## General Recommendations\n",
    "### When prototyping implied and size are convenient\n",
    "Implied dimensions are easy to specify and great for quickly expanding an existing RV. F\n",
    "\n",
    "### For reusable code we suggest dims\n",
    "For any more important work, or reuable work we suggest dims and coords as the labels will be passed to {class}'arviz.InferenceData'. This is both best practice transparency and readability for others. It also is useful in single developer workflows, for example, in cases where there is a 3 dimensional or higher RV it'll help indiciate which dimension corresponds to which model concept.\n",
    "\n",
    "### Use shape if you'd like to be explicit\n",
    "Use shape if you'd like to bypass any dimensionality calculations implicit in PyMC. This will strictly specify the dimensionality to Aesara\n",
    "\n",
    "### When debugging use unique prime numbers\n",
    "By using prime numbers it will be easier to determine where how input dimensionalities are being converted to output dimensionalities.\n",
    "Once confident with result then change the dimensionalities to match your data or modeling needs."
   ]
  },
  {
   "cell_type": "markdown",
   "metadata": {},
   "source": [
    "## Code Examples"
   ]
  },
  {
   "cell_type": "code",
   "execution_count": 1,
   "metadata": {},
   "outputs": [],
   "source": [
    "import pymc as pm\n",
    "import numpy as np"
   ]
  },
  {
   "cell_type": "markdown",
   "metadata": {},
   "source": [
    "## Scalar distribution example\n",
    "We can start with the simplest case, a single Normal distribution. We specify one as shown below"
   ]
  },
  {
   "cell_type": "code",
   "execution_count": 2,
   "metadata": {},
   "outputs": [],
   "source": [
    "normal_dist = pm.Normal.dist()"
   ]
  },
  {
   "cell_type": "markdown",
   "metadata": {},
   "source": [
    "We can then take a random sample from that same distribution and print both the draw and shape"
   ]
  },
  {
   "cell_type": "code",
   "execution_count": 3,
   "metadata": {},
   "outputs": [
    {
     "data": {
      "text/plain": [
       "(array(-1.11530499), ())"
      ]
     },
     "execution_count": 3,
     "metadata": {},
     "output_type": "execute_result"
    }
   ],
   "source": [
    "random_sample = normal_dist.eval()\n",
    "random_sample, random_sample.shape"
   ]
  },
  {
   "cell_type": "markdown",
   "metadata": {},
   "source": [
    "In this case we end up with a single scalar value. This is consistent with the distributions `ndim_supp` as the smallest random draw dimension is a scalar which has a dimension of zero"
   ]
  },
  {
   "cell_type": "code",
   "execution_count": 4,
   "metadata": {},
   "outputs": [
    {
     "data": {
      "text/plain": [
       "0"
      ]
     },
     "execution_count": 4,
     "metadata": {},
     "output_type": "execute_result"
    }
   ],
   "source": [
    "pm.Normal.rv_op.ndim_supp"
   ]
  },
  {
   "cell_type": "markdown",
   "metadata": {},
   "source": [
    "### Implied Example"
   ]
  },
  {
   "cell_type": "markdown",
   "metadata": {},
   "source": [
    "If we wanted three draws from differently centered Normals we instead could pass a vector to the parameters. When generating a random draw we would now expect a vector value, in this case a vector if size 3. This is a case of *implied dimensions*"
   ]
  },
  {
   "cell_type": "code",
   "execution_count": 5,
   "metadata": {},
   "outputs": [
    {
     "data": {
      "text/plain": [
       "(array([ 1.00002897,  9.9999175 , 99.99994224]), (3,))"
      ]
     },
     "execution_count": 5,
     "metadata": {},
     "output_type": "execute_result"
    }
   ],
   "source": [
    "random_sample = pm.Normal.dist(mu=[1,10,100], sigma=.0001).eval()\n",
    "random_sample, random_sample.shape"
   ]
  },
  {
   "cell_type": "markdown",
   "metadata": {},
   "source": [
    "### Shape and Size"
   ]
  },
  {
   "cell_type": "markdown",
   "metadata": {},
   "source": [
    "Alternatively we may just want three draws from identical distributions. In this case we could use either `shape` or `size` to specify this"
   ]
  },
  {
   "cell_type": "code",
   "execution_count": 6,
   "metadata": {},
   "outputs": [
    {
     "data": {
      "text/plain": [
       "(array([-0.56435014,  0.28613655, -0.92945242]), (3,))"
      ]
     },
     "execution_count": 6,
     "metadata": {},
     "output_type": "execute_result"
    }
   ],
   "source": [
    "random_sample = pm.Normal.dist(size=(3,)).eval()\n",
    "random_sample, random_sample.shape"
   ]
  },
  {
   "cell_type": "code",
   "execution_count": 7,
   "metadata": {},
   "outputs": [
    {
     "data": {
      "text/plain": [
       "(array([ 0.23463317, -0.24455629, -2.23058663]), (3,))"
      ]
     },
     "execution_count": 7,
     "metadata": {},
     "output_type": "execute_result"
    }
   ],
   "source": [
    "random_sample = pm.Normal.dist(shape=(3,)).eval()\n",
    "random_sample, random_sample.shape"
   ]
  },
  {
   "cell_type": "markdown",
   "metadata": {},
   "source": [
    "### Inspecting dimensionality with a model graph\n",
    "A powerful tool to understand and debug dimensionality in PyMC is the `pm.model_to_graphviz` functionality. Rather than inspecting array outputs we instead can read the Graphviz output to understand the dimensionality.\n",
    "\n",
    "In the example below the number on the bottom left of each box indicates the dimensionality of the Random Variable. With the scalar distribution it is implied to be one random draw of `ndim_support`"
   ]
  },
  {
   "cell_type": "code",
   "execution_count": 8,
   "metadata": {},
   "outputs": [
    {
     "data": {
      "image/svg+xml": "<?xml version=\"1.0\" encoding=\"UTF-8\" standalone=\"no\"?>\n<!DOCTYPE svg PUBLIC \"-//W3C//DTD SVG 1.1//EN\"\n \"http://www.w3.org/Graphics/SVG/1.1/DTD/svg11.dtd\">\n<!-- Generated by graphviz version 2.43.0 (0)\n -->\n<!-- Title: %3 Pages: 1 -->\n<svg width=\"796pt\" height=\"138pt\"\n viewBox=\"0.00 0.00 796.50 137.95\" xmlns=\"http://www.w3.org/2000/svg\" xmlns:xlink=\"http://www.w3.org/1999/xlink\">\n<g id=\"graph0\" class=\"graph\" transform=\"scale(1 1) rotate(0) translate(4 133.95)\">\n<title>%3</title>\n<polygon fill=\"white\" stroke=\"transparent\" points=\"-4,4 -4,-133.95 792.5,-133.95 792.5,4 -4,4\"/>\n<g id=\"clust1\" class=\"cluster\">\n<title>cluster3</title>\n<path fill=\"none\" stroke=\"black\" d=\"M120.5,-8C120.5,-8 296.5,-8 296.5,-8 302.5,-8 308.5,-14 308.5,-20 308.5,-20 308.5,-109.95 308.5,-109.95 308.5,-115.95 302.5,-121.95 296.5,-121.95 296.5,-121.95 120.5,-121.95 120.5,-121.95 114.5,-121.95 108.5,-115.95 108.5,-109.95 108.5,-109.95 108.5,-20 108.5,-20 108.5,-14 114.5,-8 120.5,-8\"/>\n<text text-anchor=\"middle\" x=\"295.5\" y=\"-15.8\" font-family=\"Times,serif\" font-size=\"14.00\">3</text>\n</g>\n<g id=\"clust2\" class=\"cluster\">\n<title>cluster4</title>\n<path fill=\"none\" stroke=\"black\" d=\"M328.5,-8C328.5,-8 542.5,-8 542.5,-8 548.5,-8 554.5,-14 554.5,-20 554.5,-20 554.5,-109.95 554.5,-109.95 554.5,-115.95 548.5,-121.95 542.5,-121.95 542.5,-121.95 328.5,-121.95 328.5,-121.95 322.5,-121.95 316.5,-115.95 316.5,-109.95 316.5,-109.95 316.5,-20 316.5,-20 316.5,-14 322.5,-8 328.5,-8\"/>\n<text text-anchor=\"middle\" x=\"541.5\" y=\"-15.8\" font-family=\"Times,serif\" font-size=\"14.00\">4</text>\n</g>\n<g id=\"clust3\" class=\"cluster\">\n<title>cluster5</title>\n<path fill=\"none\" stroke=\"black\" d=\"M574.5,-8C574.5,-8 768.5,-8 768.5,-8 774.5,-8 780.5,-14 780.5,-20 780.5,-20 780.5,-109.95 780.5,-109.95 780.5,-115.95 774.5,-121.95 768.5,-121.95 768.5,-121.95 574.5,-121.95 574.5,-121.95 568.5,-121.95 562.5,-115.95 562.5,-109.95 562.5,-109.95 562.5,-20 562.5,-20 562.5,-14 568.5,-8 574.5,-8\"/>\n<text text-anchor=\"middle\" x=\"767.5\" y=\"-15.8\" font-family=\"Times,serif\" font-size=\"14.00\">5</text>\n</g>\n<!-- scalar -->\n<g id=\"node1\" class=\"node\">\n<title>scalar</title>\n<ellipse fill=\"none\" stroke=\"black\" cx=\"49.5\" cy=\"-76.48\" rx=\"49.49\" ry=\"37.45\"/>\n<text text-anchor=\"middle\" x=\"49.5\" y=\"-87.78\" font-family=\"Times,serif\" font-size=\"14.00\">scalar</text>\n<text text-anchor=\"middle\" x=\"49.5\" y=\"-72.78\" font-family=\"Times,serif\" font-size=\"14.00\">~</text>\n<text text-anchor=\"middle\" x=\"49.5\" y=\"-57.78\" font-family=\"Times,serif\" font-size=\"14.00\">Normal</text>\n</g>\n<!-- vector (implied) -->\n<g id=\"node2\" class=\"node\">\n<title>vector (implied)</title>\n<ellipse fill=\"none\" stroke=\"black\" cx=\"208.5\" cy=\"-76.48\" rx=\"91.85\" ry=\"37.45\"/>\n<text text-anchor=\"middle\" x=\"208.5\" y=\"-87.78\" font-family=\"Times,serif\" font-size=\"14.00\">vector (implied)</text>\n<text text-anchor=\"middle\" x=\"208.5\" y=\"-72.78\" font-family=\"Times,serif\" font-size=\"14.00\">~</text>\n<text text-anchor=\"middle\" x=\"208.5\" y=\"-57.78\" font-family=\"Times,serif\" font-size=\"14.00\">Normal</text>\n</g>\n<!-- vector (from shape) -->\n<g id=\"node3\" class=\"node\">\n<title>vector (from shape)</title>\n<ellipse fill=\"none\" stroke=\"black\" cx=\"435.5\" cy=\"-76.48\" rx=\"111.03\" ry=\"37.45\"/>\n<text text-anchor=\"middle\" x=\"435.5\" y=\"-87.78\" font-family=\"Times,serif\" font-size=\"14.00\">vector (from shape)</text>\n<text text-anchor=\"middle\" x=\"435.5\" y=\"-72.78\" font-family=\"Times,serif\" font-size=\"14.00\">~</text>\n<text text-anchor=\"middle\" x=\"435.5\" y=\"-57.78\" font-family=\"Times,serif\" font-size=\"14.00\">Normal</text>\n</g>\n<!-- vector (from size) -->\n<g id=\"node4\" class=\"node\">\n<title>vector (from size)</title>\n<ellipse fill=\"none\" stroke=\"black\" cx=\"671.5\" cy=\"-76.48\" rx=\"101.23\" ry=\"37.45\"/>\n<text text-anchor=\"middle\" x=\"671.5\" y=\"-87.78\" font-family=\"Times,serif\" font-size=\"14.00\">vector (from size)</text>\n<text text-anchor=\"middle\" x=\"671.5\" y=\"-72.78\" font-family=\"Times,serif\" font-size=\"14.00\">~</text>\n<text text-anchor=\"middle\" x=\"671.5\" y=\"-57.78\" font-family=\"Times,serif\" font-size=\"14.00\">Normal</text>\n</g>\n</g>\n</svg>\n",
      "text/plain": [
       "<graphviz.graphs.Digraph at 0x7f57f58a5cd0>"
      ]
     },
     "execution_count": 8,
     "metadata": {},
     "output_type": "execute_result"
    }
   ],
   "source": [
    "with pm.Model() as pmodel:\n",
    "    pm.Normal(\"scalar\") # shape=()\n",
    "    pm.Normal(\"vector (implied)\", mu=[1,2,3])\n",
    "    pm.Normal(\"vector (from shape)\", shape=(4,))\n",
    "    pm.Normal(\"vector (from size)\", size=(5,))\n",
    "    \n",
    "pm.model_to_graphviz(pmodel)"
   ]
  },
  {
   "cell_type": "markdown",
   "metadata": {},
   "source": [
    "## Dims\n",
    "A new feature of PyMC is `dims` support. With many random variables it can become confusing which dimensionality corresponds to which \"real world\" idea, e.g. number of observations, number of treated units etc. The dims argument is an additional label to help."
   ]
  },
  {
   "cell_type": "code",
   "execution_count": 9,
   "metadata": {},
   "outputs": [
    {
     "data": {
      "image/svg+xml": "<?xml version=\"1.0\" encoding=\"UTF-8\" standalone=\"no\"?>\n<!DOCTYPE svg PUBLIC \"-//W3C//DTD SVG 1.1//EN\"\n \"http://www.w3.org/Graphics/SVG/1.1/DTD/svg11.dtd\">\n<!-- Generated by graphviz version 2.43.0 (0)\n -->\n<!-- Title: %3 Pages: 1 -->\n<svg width=\"260pt\" height=\"252pt\"\n viewBox=\"0.00 0.00 260.00 251.91\" xmlns=\"http://www.w3.org/2000/svg\" xmlns:xlink=\"http://www.w3.org/1999/xlink\">\n<g id=\"graph0\" class=\"graph\" transform=\"scale(1 1) rotate(0) translate(4 247.91)\">\n<title>%3</title>\n<polygon fill=\"white\" stroke=\"transparent\" points=\"-4,4 -4,-247.91 256,-247.91 256,4 -4,4\"/>\n<g id=\"clust1\" class=\"cluster\">\n<title>clusterB (2)</title>\n<path fill=\"none\" stroke=\"black\" d=\"M20,-121.95C20,-121.95 110,-121.95 110,-121.95 116,-121.95 122,-127.95 122,-133.95 122,-133.95 122,-223.91 122,-223.91 122,-229.91 116,-235.91 110,-235.91 110,-235.91 20,-235.91 20,-235.91 14,-235.91 8,-229.91 8,-223.91 8,-223.91 8,-133.95 8,-133.95 8,-127.95 14,-121.95 20,-121.95\"/>\n<text text-anchor=\"middle\" x=\"96.5\" y=\"-129.75\" font-family=\"Times,serif\" font-size=\"14.00\">B (2)</text>\n</g>\n<g id=\"clust2\" class=\"cluster\">\n<title>clusterDim_A (4)</title>\n<path fill=\"none\" stroke=\"black\" d=\"M142,-8C142,-8 232,-8 232,-8 238,-8 244,-14 244,-20 244,-20 244,-223.91 244,-223.91 244,-229.91 238,-235.91 232,-235.91 232,-235.91 142,-235.91 142,-235.91 136,-235.91 130,-229.91 130,-223.91 130,-223.91 130,-20 130,-20 130,-14 136,-8 142,-8\"/>\n<text text-anchor=\"middle\" x=\"201\" y=\"-15.8\" font-family=\"Times,serif\" font-size=\"14.00\">Dim_A (4)</text>\n</g>\n<!-- red -->\n<g id=\"node1\" class=\"node\">\n<title>red</title>\n<ellipse fill=\"none\" stroke=\"black\" cx=\"65\" cy=\"-190.43\" rx=\"49.49\" ry=\"37.45\"/>\n<text text-anchor=\"middle\" x=\"65\" y=\"-201.73\" font-family=\"Times,serif\" font-size=\"14.00\">red</text>\n<text text-anchor=\"middle\" x=\"65\" y=\"-186.73\" font-family=\"Times,serif\" font-size=\"14.00\">~</text>\n<text text-anchor=\"middle\" x=\"65\" y=\"-171.73\" font-family=\"Times,serif\" font-size=\"14.00\">Normal</text>\n</g>\n<!-- one -->\n<g id=\"node2\" class=\"node\">\n<title>one</title>\n<ellipse fill=\"none\" stroke=\"black\" cx=\"187\" cy=\"-190.43\" rx=\"49.49\" ry=\"37.45\"/>\n<text text-anchor=\"middle\" x=\"187\" y=\"-201.73\" font-family=\"Times,serif\" font-size=\"14.00\">one</text>\n<text text-anchor=\"middle\" x=\"187\" y=\"-186.73\" font-family=\"Times,serif\" font-size=\"14.00\">~</text>\n<text text-anchor=\"middle\" x=\"187\" y=\"-171.73\" font-family=\"Times,serif\" font-size=\"14.00\">Normal</text>\n</g>\n<!-- two -->\n<g id=\"node3\" class=\"node\">\n<title>two</title>\n<ellipse fill=\"none\" stroke=\"black\" cx=\"187\" cy=\"-76.48\" rx=\"49.49\" ry=\"37.45\"/>\n<text text-anchor=\"middle\" x=\"187\" y=\"-87.78\" font-family=\"Times,serif\" font-size=\"14.00\">two</text>\n<text text-anchor=\"middle\" x=\"187\" y=\"-72.78\" font-family=\"Times,serif\" font-size=\"14.00\">~</text>\n<text text-anchor=\"middle\" x=\"187\" y=\"-57.78\" font-family=\"Times,serif\" font-size=\"14.00\">Normal</text>\n</g>\n<!-- one&#45;&gt;two -->\n<g id=\"edge1\" class=\"edge\">\n<title>one&#45;&gt;two</title>\n<path fill=\"none\" stroke=\"black\" d=\"M187,-152.77C187,-143.69 187,-133.83 187,-124.33\"/>\n<polygon fill=\"black\" stroke=\"black\" points=\"190.5,-124.22 187,-114.22 183.5,-124.22 190.5,-124.22\"/>\n</g>\n</g>\n</svg>\n",
      "text/plain": [
       "<graphviz.graphs.Digraph at 0x7f57f586ff40>"
      ]
     },
     "execution_count": 9,
     "metadata": {},
     "output_type": "execute_result"
    }
   ],
   "source": [
    "with pm.Model() as pmodel:\n",
    "    pm.Normal(\"red\", size=2, dims=\"B\")\n",
    "\n",
    "    pm.Normal(\"one\", [1,2,3,4], dims=\"Dim_A\")  # (4,)\n",
    "    pm.Normal(\"two\", dims=\"Dim_A\")\n",
    "\n",
    "\n",
    "pm.model_to_graphviz(pmodel)"
   ]
  },
  {
   "cell_type": "markdown",
   "metadata": {},
   "source": [
    "Where dims can become increasingly powerful is with the use of `coords` specified in the model itself. With this it becomes easy to track. As an added bonus the coords and dims will also be present in the returned {class}'arviz.InferenceData' simplifying the entire workflow."
   ]
  },
  {
   "cell_type": "code",
   "execution_count": 10,
   "metadata": {},
   "outputs": [],
   "source": [
    "with pm.Model(coords={\n",
    "    \"year\": [2020, 2021, 2022],\n",
    "}) as pmodel:\n",
    "    \n",
    "    pm.Normal(\"Normal_RV\", dims=\"year\")\n",
    "\n",
    "    pm.model_to_graphviz(pmodel)"
   ]
  },
  {
   "cell_type": "markdown",
   "metadata": {},
   "source": [
    "## Vector Distributions\n",
    "Some distributions by definition cannot return scalar values as random samples, but instead will return an array as their result. An example is the Multivariate Normal. The simplest possible return shape can be verified using `ndim_supp`. The value here indicates the smallest shape that can be returned is a vector"
   ]
  },
  {
   "cell_type": "code",
   "execution_count": 11,
   "metadata": {},
   "outputs": [
    {
     "data": {
      "text/plain": [
       "1"
      ]
     },
     "execution_count": 11,
     "metadata": {},
     "output_type": "execute_result"
    }
   ],
   "source": [
    "pm.MvNormal.rv_op.ndim_supp"
   ]
  },
  {
   "cell_type": "markdown",
   "metadata": {},
   "source": [
    "This can be verified with a random sample as well."
   ]
  },
  {
   "cell_type": "code",
   "execution_count": 23,
   "metadata": {},
   "outputs": [
    {
     "data": {
      "text/plain": [
       "array([[1.00273693, 1.99583834, 2.99674157],\n",
       "       [4.01036637, 5.00775714, 5.97952974]])"
      ]
     },
     "execution_count": 23,
     "metadata": {},
     "output_type": "execute_result"
    }
   ],
   "source": [
    "pm.MvNormal.dist(mu=[[1,2,3], [4,5,6]], cov=np.eye(3)*.0001).eval()"
   ]
  },
  {
   "cell_type": "markdown",
   "metadata": {},
   "source": [
    "Like scalar distributions we can also use all our dimensionality tools as well to specify a set of Multivariate normals"
   ]
  },
  {
   "cell_type": "code",
   "execution_count": 33,
   "metadata": {},
   "outputs": [
    {
     "name": "stdout",
     "output_type": "stream",
     "text": [
      "[3]\n",
      "[3 2]\n",
      "[3 2]\n",
      "[3 2]\n"
     ]
    },
    {
     "data": {
      "image/svg+xml": "<?xml version=\"1.0\" encoding=\"UTF-8\" standalone=\"no\"?>\n<!DOCTYPE svg PUBLIC \"-//W3C//DTD SVG 1.1//EN\"\n \"http://www.w3.org/Graphics/SVG/1.1/DTD/svg11.dtd\">\n<!-- Generated by graphviz version 2.43.0 (0)\n -->\n<!-- Title: %3 Pages: 1 -->\n<svg width=\"714pt\" height=\"138pt\"\n viewBox=\"0.00 0.00 714.00 137.95\" xmlns=\"http://www.w3.org/2000/svg\" xmlns:xlink=\"http://www.w3.org/1999/xlink\">\n<g id=\"graph0\" class=\"graph\" transform=\"scale(1 1) rotate(0) translate(4 133.95)\">\n<title>%3</title>\n<polygon fill=\"white\" stroke=\"transparent\" points=\"-4,4 -4,-133.95 710,-133.95 710,4 -4,4\"/>\n<g id=\"clust1\" class=\"cluster\">\n<title>cluster3</title>\n<path fill=\"none\" stroke=\"black\" d=\"M20,-8C20,-8 142,-8 142,-8 148,-8 154,-14 154,-20 154,-20 154,-109.95 154,-109.95 154,-115.95 148,-121.95 142,-121.95 142,-121.95 20,-121.95 20,-121.95 14,-121.95 8,-115.95 8,-109.95 8,-109.95 8,-20 8,-20 8,-14 14,-8 20,-8\"/>\n<text text-anchor=\"middle\" x=\"141\" y=\"-15.8\" font-family=\"Times,serif\" font-size=\"14.00\">3</text>\n</g>\n<g id=\"clust2\" class=\"cluster\">\n<title>clusterrepeats (3) x implied (2)</title>\n<path fill=\"none\" stroke=\"black\" d=\"M174,-8C174,-8 339,-8 339,-8 345,-8 351,-14 351,-20 351,-20 351,-109.95 351,-109.95 351,-115.95 345,-121.95 339,-121.95 339,-121.95 174,-121.95 174,-121.95 168,-121.95 162,-115.95 162,-109.95 162,-109.95 162,-20 162,-20 162,-14 168,-8 174,-8\"/>\n<text text-anchor=\"middle\" x=\"256.5\" y=\"-15.8\" font-family=\"Times,serif\" font-size=\"14.00\">repeats (3) x implied (2)</text>\n</g>\n<g id=\"clust3\" class=\"cluster\">\n<title>clusterrepeats (3) x None (2)</title>\n<path fill=\"none\" stroke=\"black\" d=\"M371,-8C371,-8 520,-8 520,-8 526,-8 532,-14 532,-20 532,-20 532,-109.95 532,-109.95 532,-115.95 526,-121.95 520,-121.95 520,-121.95 371,-121.95 371,-121.95 365,-121.95 359,-115.95 359,-109.95 359,-109.95 359,-20 359,-20 359,-14 365,-8 371,-8\"/>\n<text text-anchor=\"middle\" x=\"445.5\" y=\"-15.8\" font-family=\"Times,serif\" font-size=\"14.00\">repeats (3) x None (2)</text>\n</g>\n<g id=\"clust4\" class=\"cluster\">\n<title>clusteryear (3) x None (2)</title>\n<path fill=\"none\" stroke=\"black\" d=\"M552,-8C552,-8 686,-8 686,-8 692,-8 698,-14 698,-20 698,-20 698,-109.95 698,-109.95 698,-115.95 692,-121.95 686,-121.95 686,-121.95 552,-121.95 552,-121.95 546,-121.95 540,-115.95 540,-109.95 540,-109.95 540,-20 540,-20 540,-14 546,-8 552,-8\"/>\n<text text-anchor=\"middle\" x=\"622.5\" y=\"-15.8\" font-family=\"Times,serif\" font-size=\"14.00\">year (3) x None (2)</text>\n</g>\n<!-- implied -->\n<g id=\"node1\" class=\"node\">\n<title>implied</title>\n<ellipse fill=\"none\" stroke=\"black\" cx=\"81\" cy=\"-76.48\" rx=\"65.11\" ry=\"37.45\"/>\n<text text-anchor=\"middle\" x=\"81\" y=\"-87.78\" font-family=\"Times,serif\" font-size=\"14.00\">implied</text>\n<text text-anchor=\"middle\" x=\"81\" y=\"-72.78\" font-family=\"Times,serif\" font-size=\"14.00\">~</text>\n<text text-anchor=\"middle\" x=\"81\" y=\"-57.78\" font-family=\"Times,serif\" font-size=\"14.00\">MvNormal</text>\n</g>\n<!-- with size -->\n<g id=\"node2\" class=\"node\">\n<title>with size</title>\n<ellipse fill=\"none\" stroke=\"black\" cx=\"256\" cy=\"-76.48\" rx=\"65.11\" ry=\"37.45\"/>\n<text text-anchor=\"middle\" x=\"256\" y=\"-87.78\" font-family=\"Times,serif\" font-size=\"14.00\">with size</text>\n<text text-anchor=\"middle\" x=\"256\" y=\"-72.78\" font-family=\"Times,serif\" font-size=\"14.00\">~</text>\n<text text-anchor=\"middle\" x=\"256\" y=\"-57.78\" font-family=\"Times,serif\" font-size=\"14.00\">MvNormal</text>\n</g>\n<!-- with shape -->\n<g id=\"node3\" class=\"node\">\n<title>with shape</title>\n<ellipse fill=\"none\" stroke=\"black\" cx=\"445\" cy=\"-76.48\" rx=\"67.35\" ry=\"37.45\"/>\n<text text-anchor=\"middle\" x=\"445\" y=\"-87.78\" font-family=\"Times,serif\" font-size=\"14.00\">with shape</text>\n<text text-anchor=\"middle\" x=\"445\" y=\"-72.78\" font-family=\"Times,serif\" font-size=\"14.00\">~</text>\n<text text-anchor=\"middle\" x=\"445\" y=\"-57.78\" font-family=\"Times,serif\" font-size=\"14.00\">MvNormal</text>\n</g>\n<!-- with coords -->\n<g id=\"node4\" class=\"node\">\n<title>with coords</title>\n<ellipse fill=\"none\" stroke=\"black\" cx=\"619\" cy=\"-76.48\" rx=\"70.92\" ry=\"37.45\"/>\n<text text-anchor=\"middle\" x=\"619\" y=\"-87.78\" font-family=\"Times,serif\" font-size=\"14.00\">with coords</text>\n<text text-anchor=\"middle\" x=\"619\" y=\"-72.78\" font-family=\"Times,serif\" font-size=\"14.00\">~</text>\n<text text-anchor=\"middle\" x=\"619\" y=\"-57.78\" font-family=\"Times,serif\" font-size=\"14.00\">MvNormal</text>\n</g>\n</g>\n</svg>\n",
      "text/plain": [
       "<graphviz.graphs.Digraph at 0x7f57f1477e20>"
      ]
     },
     "execution_count": 33,
     "metadata": {},
     "output_type": "execute_result"
    }
   ],
   "source": [
    "with pm.Model(coords={\n",
    "    \"year\": [2020, 2021, 2022],\n",
    "}) as pmodel:\n",
    "    mv = pm.MvNormal(\"implied\", mu=[0, 0, 0], cov=np.eye(3))\n",
    "    print(mv.shape.eval())\n",
    "\n",
    "    # Multivariate RVs (ndim_supp > 0)\n",
    "    assert mv.ndim == 1\n",
    "\n",
    "    mv = pm.MvNormal(\"with size\", mu=[0, 0], cov=np.eye(2), size=3, dims=(\"repeats\", \"implied\"))\n",
    "    print(mv.shape.eval())\n",
    "    \n",
    "    # ⚠ Size dims are always __prepended__\n",
    "    mv = pm.MvNormal(\"with shape\", mu=[0, 0], cov=np.eye(2), shape=(3, ...), dims=(\"repeats\", ...))\n",
    "    print(mv.shape.eval())\n",
    "    \n",
    "    mv = pm.MvNormal(\"with coords\", mu=[0, 0], cov=np.eye(2), dims=(\"year\", ...))\n",
    "    print(mv.shape.eval())\n",
    "\n",
    "pm.model_to_graphviz(pmodel)"
   ]
  },
  {
   "cell_type": "markdown",
   "metadata": {},
   "source": [
    "### User caution and practical tips"
   ]
  },
  {
   "cell_type": "markdown",
   "metadata": {},
   "source": [
    "While we provide all these tools for convenience, and while PyMC does it best to understand user intent, the result of mixed dimensionality tools may not always result in the final dimensionality intended. Sometimes the model may not indicate an error until sampling, or not indicate an issue at all. When working with dimensionality, particular more complex ones we suggest\n",
    "\n",
    "* Using GraphViz to visualize your model before sampling\n",
    "* Using the prior predictive to catch errors early\n",
    "* Inspecting the returned `az.InferenceData` object to ensure all array sizes are as intended"
   ]
  }
 ],
 "metadata": {
  "interpreter": {
   "hash": "f574fac5b7e4a41f7640949d1e1759089329dd116ff7b389caa9cf21f93d872d"
  },
  "kernelspec": {
   "display_name": "Python 3 (ipykernel)",
   "language": "python",
   "name": "python3"
  },
  "language_info": {
   "codemirror_mode": {
    "name": "ipython",
    "version": 3
   },
   "file_extension": ".py",
   "mimetype": "text/x-python",
   "name": "python",
   "nbconvert_exporter": "python",
   "pygments_lexer": "ipython3",
   "version": "3.9.7"
  }
 },
 "nbformat": 4,
 "nbformat_minor": 4
}
